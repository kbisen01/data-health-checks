{
 "cells": [
  {
   "cell_type": "code",
   "execution_count": null,
   "metadata": {},
   "outputs": [],
   "source": [
    "from logic import FITSDataHealthChecks, RMA"
   ]
  },
  {
   "cell_type": "code",
   "execution_count": null,
   "metadata": {},
   "outputs": [],
   "source": []
  },
  {
   "cell_type": "code",
   "execution_count": null,
   "metadata": {},
   "outputs": [],
   "source": []
  },
  {
   "cell_type": "code",
   "execution_count": 1,
   "metadata": {},
   "outputs": [],
   "source": [
    "from logic import FITSDataHealth\n",
    "from utils import S3Utils\n",
    "DataHealthChecks = FITSDataHealth()"
   ]
  },
  {
   "cell_type": "code",
   "execution_count": 3,
   "metadata": {},
   "outputs": [
    {
     "name": "stdout",
     "output_type": "stream",
     "text": [
      "Upload successful to local/output/20230824/RMA missing from FITS.csv\n"
     ]
    }
   ],
   "source": [
    "DHRMA_data = DataHealthChecks.check_all_repair_rma_present().append_with_dh_rma_data()\n",
    "S3Utils.upload_csv_to_s3(DHRMA_data.fetch(), f\"{DHRMA_data.output_dir}/RMA missing from FITS.csv\")"
   ]
  },
  {
   "cell_type": "code",
   "execution_count": 5,
   "metadata": {},
   "outputs": [
    {
     "name": "stdout",
     "output_type": "stream",
     "text": [
      "Data health output is empty\n",
      "No Unknown Operation\n",
      "Upload successful to local/output/20230824/RMA mismatch between portal and FITS.csv\n"
     ]
    },
    {
     "name": "stderr",
     "output_type": "stream",
     "text": [
      "c:\\Users\\krshn\\Documents\\Acacia\\data-health-checks\\logic.py:752: SettingWithCopyWarning: \n",
      "A value is trying to be set on a copy of a slice from a DataFrame.\n",
      "Try using .loc[row_indexer,col_indexer] = value instead\n",
      "\n",
      "See the caveats in the documentation: https://pandas.pydata.org/pandas-docs/stable/user_guide/indexing.html#returning-a-view-versus-a-copy\n",
      "  temp.output[\"dh_failure\"] = \"Incorrect workorder format\"\n"
     ]
    },
    {
     "name": "stdout",
     "output_type": "stream",
     "text": [
      "Upload successful to local/output/20230824/Incorrect RMA format.csv\n",
      "Upload successful to local/output/20230824/Incorrect repair close status in FITS.csv\n",
      "Upload successful to local/output/20230824/Missing trans_seq from param.csv\n",
      "Upload successful to local/output/20230824/param entry closed after process checkout.csv\n",
      "Upload successful to local/output/20230824/Oracle shipped units pending in debug.csv\n"
     ]
    },
    {
     "name": "stderr",
     "output_type": "stream",
     "text": [
      "c:\\Users\\krshn\\Documents\\Acacia\\data-health-checks\\logic.py:222: SettingWithCopyWarning: \n",
      "A value is trying to be set on a copy of a slice from a DataFrame.\n",
      "Try using .loc[row_indexer,col_indexer] = value instead\n",
      "\n",
      "See the caveats in the documentation: https://pandas.pydata.org/pandas-docs/stable/user_guide/indexing.html#returning-a-view-versus-a-copy\n",
      "  rma_operation[\"date\"] = pd.to_datetime(rma_operation[\"date\"])\n"
     ]
    }
   ],
   "source": [
    "DHProcess =DataHealthChecks.check_unknown_operation().append_with_dh_process()\n",
    "if DHProcess.fetch().empty:\n",
    "    print(\"No Unknown Operation\")\n",
    "else:\n",
    "    S3Utils.upload_csv_to_s3(DHProcess.fetch(), f\"{DHProcess.output_dir}/unknown operation in FITS.csv\")\n",
    "\n",
    "DHProcess =DHProcess.check_rma_portal_match().append_with_dh_process()\n",
    "if DHProcess.fetch().empty:\n",
    "    print(\"No RMA mismatch between portal and FITS\")\n",
    "else:\n",
    "    S3Utils.upload_csv_to_s3(DHProcess.fetch(), f\"{DHProcess.output_dir}/RMA mismatch between portal and FITS.csv\")\n",
    "\n",
    "DHProcess =DHProcess.check_rma_format().append_with_dh_process()\n",
    "if DHProcess.fetch().empty:\n",
    "    print(\"No incorrect RMA format\")\n",
    "else:\n",
    "    S3Utils.upload_csv_to_s3(DHProcess.fetch(), f\"{DHProcess.output_dir}/Incorrect RMA format.csv\")\n",
    "\n",
    "DHProcess =DHProcess.check_repair_close_fits_status().append_with_dh_process()\n",
    "if DHProcess.fetch().empty:\n",
    "    print(\"No Incorrect repair close status in FITS\")\n",
    "else:\n",
    "    S3Utils.upload_csv_to_s3(DHProcess.fetch(), f\"{DHProcess.output_dir}/Incorrect repair close status in FITS.csv\")\n",
    "\n",
    "DHProcess =DHProcess.check_trans_seq_in_param().append_with_dh_process()\n",
    "if DHProcess.fetch().empty:\n",
    "    print(\"No missing trans_seq from param\")\n",
    "else:\n",
    "    S3Utils.upload_csv_to_s3(DHProcess.fetch(), f\"{DHProcess.output_dir}/Missing trans_seq from param.csv\")\n",
    "\n",
    "DHProcess =DHProcess.check_param_entry_closed_before_process_checkout().append_with_dh_process()\n",
    "if DHProcess.fetch().empty:\n",
    "    print(\"No param entry closed after process checkout\")\n",
    "else:\n",
    "    S3Utils.upload_csv_to_s3(DHProcess.fetch(), f\"{DHProcess.output_dir}/param entry closed after process checkout.csv\")\n",
    "\n",
    "DHProcess =DHProcess.check_oracle_shipped_units().append_with_dh_process()\n",
    "if DHProcess.fetch().empty:\n",
    "    print(\"No Oracle shipped units pending in debug\")\n",
    "else:\n",
    "    S3Utils.upload_csv_to_s3(DHProcess.fetch(), f\"{DHProcess.output_dir}/Oracle shipped units pending in debug.csv\")"
   ]
  },
  {
   "cell_type": "code",
   "execution_count": 6,
   "metadata": {},
   "outputs": [
    {
     "name": "stdout",
     "output_type": "stream",
     "text": [
      "Upload successful to local/output/captured_cases/DH_Process.csv\n",
      "Upload successful to local/output/captured_cases/DH_RMA_Data.csv\n"
     ]
    }
   ],
   "source": [
    "S3Utils.upload_csv_to_s3(DHProcess.dh_process_df, f\"{DHProcess.captured_cases_dir}/DH_Process.csv\")\n",
    "S3Utils.upload_csv_to_s3(DHRMA_data.dh_rma_data_df, f\"{DHProcess.captured_cases_dir}/DH_RMA_Data.csv\")\n"
   ]
  },
  {
   "cell_type": "code",
   "execution_count": 7,
   "metadata": {},
   "outputs": [],
   "source": [
    "DHProcess = DHProcess.remove_previous_dh_process_cases()\n",
    "DHRMA_data = DHRMA_data.remove_previous_dh_rma_data_cases()"
   ]
  },
  {
   "cell_type": "code",
   "execution_count": 8,
   "metadata": {},
   "outputs": [
    {
     "name": "stdout",
     "output_type": "stream",
     "text": [
      "Upload successful to local/output/20230824/DH_Process.csv\n",
      "Upload successful to local/output/20230824/DH_RMA_Data.csv\n"
     ]
    }
   ],
   "source": [
    "S3Utils.upload_csv_to_s3(DHProcess.dh_process_df, f\"{DHProcess.output_dir}/DH_Process.csv\")\n",
    "S3Utils.upload_csv_to_s3(DHRMA_data.dh_rma_data_df, f\"{DHProcess.output_dir}/DH_RMA_Data.csv\")\n"
   ]
  }
 ],
 "metadata": {
  "kernelspec": {
   "display_name": "Python 3",
   "language": "python",
   "name": "python3"
  },
  "language_info": {
   "codemirror_mode": {
    "name": "ipython",
    "version": 3
   },
   "file_extension": ".py",
   "mimetype": "text/x-python",
   "name": "python",
   "nbconvert_exporter": "python",
   "pygments_lexer": "ipython3",
   "version": "3.11.1"
  },
  "orig_nbformat": 4
 },
 "nbformat": 4,
 "nbformat_minor": 2
}
