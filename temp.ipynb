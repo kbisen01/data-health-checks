{
 "cells": [
  {
   "cell_type": "code",
   "execution_count": 1,
   "metadata": {},
   "outputs": [],
   "source": [
    "from temp import FITSDataHealth\n",
    "DataHealthChecks = FITSDataHealth()"
   ]
  },
  {
   "cell_type": "code",
   "execution_count": 2,
   "metadata": {},
   "outputs": [],
   "source": [
    "DataHealthChecks.check_all_repair_rma_present().output_df.to_csv('output/RMA not in FITS.csv', index=False)"
   ]
  },
  {
   "cell_type": "code",
   "execution_count": 3,
   "metadata": {},
   "outputs": [],
   "source": [
    "DataHealthChecks.check_unknown_operation().output_df.to_csv('output/FITS unknown operation.csv', index=False)"
   ]
  },
  {
   "cell_type": "code",
   "execution_count": 4,
   "metadata": {},
   "outputs": [],
   "source": [
    "DataHealthChecks.check_rma_portal_match().output_df.to_csv('output/FITS_RMA_not_in_portal.csv', index = False)"
   ]
  },
  {
   "cell_type": "code",
   "execution_count": 6,
   "metadata": {},
   "outputs": [
    {
     "name": "stderr",
     "output_type": "stream",
     "text": [
      "c:\\Users\\krshn\\Documents\\Acacia\\data-health-checks\\temp.py:247: SettingWithCopyWarning: \n",
      "A value is trying to be set on a copy of a slice from a DataFrame.\n",
      "Try using .loc[row_indexer,col_indexer] = value instead\n",
      "\n",
      "See the caveats in the documentation: https://pandas.pydata.org/pandas-docs/stable/user_guide/indexing.html#returning-a-view-versus-a-copy\n",
      "  rma_operation[\"date\"] = pd.to_datetime(rma_operation[\"date\"])\n"
     ]
    }
   ],
   "source": [
    "DataHealthChecks.check_rma_format().output_df.to_csv('output/Incorrect_WO_format.csv', index = False)"
   ]
  },
  {
   "cell_type": "code",
   "execution_count": null,
   "metadata": {},
   "outputs": [],
   "source": [
    "DataHealthChecks.check_oracle_shipped_units().output_df.to_csv('output/shipped_units_in_debug.csv', index = False)"
   ]
  },
  {
   "cell_type": "code",
   "execution_count": 3,
   "metadata": {},
   "outputs": [],
   "source": [
    "DataHealthChecks.check_repair_close_fits_status().output_df.to_csv('output/incorrect_closing_operation.csv', index = False)"
   ]
  },
  {
   "cell_type": "code",
   "execution_count": 2,
   "metadata": {},
   "outputs": [
    {
     "ename": "AttributeError",
     "evalue": "'int' object has no attribute 'pipe'",
     "output_type": "error",
     "traceback": [
      "\u001b[1;31m---------------------------------------------------------------------------\u001b[0m",
      "\u001b[1;31mAttributeError\u001b[0m                            Traceback (most recent call last)",
      "Cell \u001b[1;32mIn[2], line 5\u001b[0m\n\u001b[0;32m      2\u001b[0m     \u001b[39mreturn\u001b[39;00m a \u001b[39m+\u001b[39m b\n\u001b[0;32m      4\u001b[0m a\u001b[39m=\u001b[39m\u001b[39m5\u001b[39m\n\u001b[1;32m----> 5\u001b[0m \u001b[39mprint\u001b[39m(a\u001b[39m.\u001b[39;49mpipe(add, b\u001b[39m=\u001b[39m\u001b[39m4\u001b[39m))\n",
      "\u001b[1;31mAttributeError\u001b[0m: 'int' object has no attribute 'pipe'"
     ]
    }
   ],
   "source": [
    "def add(a:int, b:int):\n",
    "    return a + b\n",
    "\n",
    "a=5\n",
    "print(a.pipe(add, b=4))"
   ]
  },
  {
   "cell_type": "code",
   "execution_count": null,
   "metadata": {},
   "outputs": [],
   "source": []
  },
  {
   "cell_type": "code",
   "execution_count": 8,
   "metadata": {},
   "outputs": [],
   "source": [
    "import pandas as pd\n",
    "process_df = pd.read_csv(DailyFITSDH._process_file_loaction, usecols=DailyFITSDH._process_columns,\n",
    "                                         dtype = DailyFITSDH._process_types, parse_dates= DailyFITSDH._process_parse_dates)\n",
    "# process_df['step_id'] = process_df['step_id'].astype(int)"
   ]
  },
  {
   "cell_type": "code",
   "execution_count": 8,
   "metadata": {},
   "outputs": [
    {
     "ename": "TypeError",
     "evalue": "Cannot interpret '<function serial_number at 0x0000020C016811C0>' as a data type",
     "output_type": "error",
     "traceback": [
      "\u001b[1;31m---------------------------------------------------------------------------\u001b[0m",
      "\u001b[1;31mTypeError\u001b[0m                                 Traceback (most recent call last)",
      "Cell \u001b[1;32mIn[8], line 2\u001b[0m\n\u001b[0;32m      1\u001b[0m \u001b[39mimport\u001b[39;00m \u001b[39mpandas\u001b[39;00m \u001b[39mas\u001b[39;00m \u001b[39mpd\u001b[39;00m\n\u001b[1;32m----> 2\u001b[0m process_df \u001b[39m=\u001b[39m pd\u001b[39m.\u001b[39;49mread_csv(FITSDataHealth\u001b[39m.\u001b[39;49m_process_file_loaction, usecols\u001b[39m=\u001b[39;49mFITSDataHealth\u001b[39m.\u001b[39;49m_process_columns,\n\u001b[0;32m      3\u001b[0m                                          dtype \u001b[39m=\u001b[39;49m {\u001b[39m'\u001b[39;49m\u001b[39mserial_no\u001b[39;49m\u001b[39m'\u001b[39;49m:serial_number}, parse_dates\u001b[39m=\u001b[39;49m FITSDataHealth\u001b[39m.\u001b[39;49m_process_parse_dates)\n\u001b[0;32m      4\u001b[0m \u001b[39m# process_df['step_id'] = process_df['step_id'].astype(int)\u001b[39;00m\n",
      "File \u001b[1;32mc:\\Users\\krshn\\AppData\\Local\\Programs\\Python\\Python311\\Lib\\site-packages\\pandas\\util\\_decorators.py:211\u001b[0m, in \u001b[0;36mdeprecate_kwarg.<locals>._deprecate_kwarg.<locals>.wrapper\u001b[1;34m(*args, **kwargs)\u001b[0m\n\u001b[0;32m    209\u001b[0m     \u001b[39melse\u001b[39;00m:\n\u001b[0;32m    210\u001b[0m         kwargs[new_arg_name] \u001b[39m=\u001b[39m new_arg_value\n\u001b[1;32m--> 211\u001b[0m \u001b[39mreturn\u001b[39;00m func(\u001b[39m*\u001b[39;49margs, \u001b[39m*\u001b[39;49m\u001b[39m*\u001b[39;49mkwargs)\n",
      "File \u001b[1;32mc:\\Users\\krshn\\AppData\\Local\\Programs\\Python\\Python311\\Lib\\site-packages\\pandas\\util\\_decorators.py:331\u001b[0m, in \u001b[0;36mdeprecate_nonkeyword_arguments.<locals>.decorate.<locals>.wrapper\u001b[1;34m(*args, **kwargs)\u001b[0m\n\u001b[0;32m    325\u001b[0m \u001b[39mif\u001b[39;00m \u001b[39mlen\u001b[39m(args) \u001b[39m>\u001b[39m num_allow_args:\n\u001b[0;32m    326\u001b[0m     warnings\u001b[39m.\u001b[39mwarn(\n\u001b[0;32m    327\u001b[0m         msg\u001b[39m.\u001b[39mformat(arguments\u001b[39m=\u001b[39m_format_argument_list(allow_args)),\n\u001b[0;32m    328\u001b[0m         \u001b[39mFutureWarning\u001b[39;00m,\n\u001b[0;32m    329\u001b[0m         stacklevel\u001b[39m=\u001b[39mfind_stack_level(),\n\u001b[0;32m    330\u001b[0m     )\n\u001b[1;32m--> 331\u001b[0m \u001b[39mreturn\u001b[39;00m func(\u001b[39m*\u001b[39;49margs, \u001b[39m*\u001b[39;49m\u001b[39m*\u001b[39;49mkwargs)\n",
      "File \u001b[1;32mc:\\Users\\krshn\\AppData\\Local\\Programs\\Python\\Python311\\Lib\\site-packages\\pandas\\io\\parsers\\readers.py:950\u001b[0m, in \u001b[0;36mread_csv\u001b[1;34m(filepath_or_buffer, sep, delimiter, header, names, index_col, usecols, squeeze, prefix, mangle_dupe_cols, dtype, engine, converters, true_values, false_values, skipinitialspace, skiprows, skipfooter, nrows, na_values, keep_default_na, na_filter, verbose, skip_blank_lines, parse_dates, infer_datetime_format, keep_date_col, date_parser, dayfirst, cache_dates, iterator, chunksize, compression, thousands, decimal, lineterminator, quotechar, quoting, doublequote, escapechar, comment, encoding, encoding_errors, dialect, error_bad_lines, warn_bad_lines, on_bad_lines, delim_whitespace, low_memory, memory_map, float_precision, storage_options)\u001b[0m\n\u001b[0;32m    935\u001b[0m kwds_defaults \u001b[39m=\u001b[39m _refine_defaults_read(\n\u001b[0;32m    936\u001b[0m     dialect,\n\u001b[0;32m    937\u001b[0m     delimiter,\n\u001b[1;32m   (...)\u001b[0m\n\u001b[0;32m    946\u001b[0m     defaults\u001b[39m=\u001b[39m{\u001b[39m\"\u001b[39m\u001b[39mdelimiter\u001b[39m\u001b[39m\"\u001b[39m: \u001b[39m\"\u001b[39m\u001b[39m,\u001b[39m\u001b[39m\"\u001b[39m},\n\u001b[0;32m    947\u001b[0m )\n\u001b[0;32m    948\u001b[0m kwds\u001b[39m.\u001b[39mupdate(kwds_defaults)\n\u001b[1;32m--> 950\u001b[0m \u001b[39mreturn\u001b[39;00m _read(filepath_or_buffer, kwds)\n",
      "File \u001b[1;32mc:\\Users\\krshn\\AppData\\Local\\Programs\\Python\\Python311\\Lib\\site-packages\\pandas\\io\\parsers\\readers.py:605\u001b[0m, in \u001b[0;36m_read\u001b[1;34m(filepath_or_buffer, kwds)\u001b[0m\n\u001b[0;32m    602\u001b[0m _validate_names(kwds\u001b[39m.\u001b[39mget(\u001b[39m\"\u001b[39m\u001b[39mnames\u001b[39m\u001b[39m\"\u001b[39m, \u001b[39mNone\u001b[39;00m))\n\u001b[0;32m    604\u001b[0m \u001b[39m# Create the parser.\u001b[39;00m\n\u001b[1;32m--> 605\u001b[0m parser \u001b[39m=\u001b[39m TextFileReader(filepath_or_buffer, \u001b[39m*\u001b[39;49m\u001b[39m*\u001b[39;49mkwds)\n\u001b[0;32m    607\u001b[0m \u001b[39mif\u001b[39;00m chunksize \u001b[39mor\u001b[39;00m iterator:\n\u001b[0;32m    608\u001b[0m     \u001b[39mreturn\u001b[39;00m parser\n",
      "File \u001b[1;32mc:\\Users\\krshn\\AppData\\Local\\Programs\\Python\\Python311\\Lib\\site-packages\\pandas\\io\\parsers\\readers.py:1442\u001b[0m, in \u001b[0;36mTextFileReader.__init__\u001b[1;34m(self, f, engine, **kwds)\u001b[0m\n\u001b[0;32m   1439\u001b[0m     \u001b[39mself\u001b[39m\u001b[39m.\u001b[39moptions[\u001b[39m\"\u001b[39m\u001b[39mhas_index_names\u001b[39m\u001b[39m\"\u001b[39m] \u001b[39m=\u001b[39m kwds[\u001b[39m\"\u001b[39m\u001b[39mhas_index_names\u001b[39m\u001b[39m\"\u001b[39m]\n\u001b[0;32m   1441\u001b[0m \u001b[39mself\u001b[39m\u001b[39m.\u001b[39mhandles: IOHandles \u001b[39m|\u001b[39m \u001b[39mNone\u001b[39;00m \u001b[39m=\u001b[39m \u001b[39mNone\u001b[39;00m\n\u001b[1;32m-> 1442\u001b[0m \u001b[39mself\u001b[39m\u001b[39m.\u001b[39m_engine \u001b[39m=\u001b[39m \u001b[39mself\u001b[39;49m\u001b[39m.\u001b[39;49m_make_engine(f, \u001b[39mself\u001b[39;49m\u001b[39m.\u001b[39;49mengine)\n",
      "File \u001b[1;32mc:\\Users\\krshn\\AppData\\Local\\Programs\\Python\\Python311\\Lib\\site-packages\\pandas\\io\\parsers\\readers.py:1753\u001b[0m, in \u001b[0;36mTextFileReader._make_engine\u001b[1;34m(self, f, engine)\u001b[0m\n\u001b[0;32m   1750\u001b[0m     \u001b[39mraise\u001b[39;00m \u001b[39mValueError\u001b[39;00m(msg)\n\u001b[0;32m   1752\u001b[0m \u001b[39mtry\u001b[39;00m:\n\u001b[1;32m-> 1753\u001b[0m     \u001b[39mreturn\u001b[39;00m mapping[engine](f, \u001b[39m*\u001b[39;49m\u001b[39m*\u001b[39;49m\u001b[39mself\u001b[39;49m\u001b[39m.\u001b[39;49moptions)\n\u001b[0;32m   1754\u001b[0m \u001b[39mexcept\u001b[39;00m \u001b[39mException\u001b[39;00m:\n\u001b[0;32m   1755\u001b[0m     \u001b[39mif\u001b[39;00m \u001b[39mself\u001b[39m\u001b[39m.\u001b[39mhandles \u001b[39mis\u001b[39;00m \u001b[39mnot\u001b[39;00m \u001b[39mNone\u001b[39;00m:\n",
      "File \u001b[1;32mc:\\Users\\krshn\\AppData\\Local\\Programs\\Python\\Python311\\Lib\\site-packages\\pandas\\io\\parsers\\c_parser_wrapper.py:78\u001b[0m, in \u001b[0;36mCParserWrapper.__init__\u001b[1;34m(self, src, **kwds)\u001b[0m\n\u001b[0;32m     68\u001b[0m \u001b[39mfor\u001b[39;00m key \u001b[39min\u001b[39;00m (\n\u001b[0;32m     69\u001b[0m     \u001b[39m\"\u001b[39m\u001b[39mstorage_options\u001b[39m\u001b[39m\"\u001b[39m,\n\u001b[0;32m     70\u001b[0m     \u001b[39m\"\u001b[39m\u001b[39mencoding\u001b[39m\u001b[39m\"\u001b[39m,\n\u001b[1;32m   (...)\u001b[0m\n\u001b[0;32m     74\u001b[0m     \u001b[39m\"\u001b[39m\u001b[39mwarn_bad_lines\u001b[39m\u001b[39m\"\u001b[39m,\n\u001b[0;32m     75\u001b[0m ):\n\u001b[0;32m     76\u001b[0m     kwds\u001b[39m.\u001b[39mpop(key, \u001b[39mNone\u001b[39;00m)\n\u001b[1;32m---> 78\u001b[0m kwds[\u001b[39m\"\u001b[39m\u001b[39mdtype\u001b[39m\u001b[39m\"\u001b[39m] \u001b[39m=\u001b[39m ensure_dtype_objs(kwds\u001b[39m.\u001b[39;49mget(\u001b[39m\"\u001b[39;49m\u001b[39mdtype\u001b[39;49m\u001b[39m\"\u001b[39;49m, \u001b[39mNone\u001b[39;49;00m))\n\u001b[0;32m     79\u001b[0m \u001b[39mself\u001b[39m\u001b[39m.\u001b[39m_reader \u001b[39m=\u001b[39m parsers\u001b[39m.\u001b[39mTextReader(src, \u001b[39m*\u001b[39m\u001b[39m*\u001b[39mkwds)\n\u001b[0;32m     81\u001b[0m \u001b[39mself\u001b[39m\u001b[39m.\u001b[39munnamed_cols \u001b[39m=\u001b[39m \u001b[39mself\u001b[39m\u001b[39m.\u001b[39m_reader\u001b[39m.\u001b[39munnamed_cols\n",
      "File \u001b[1;32mc:\\Users\\krshn\\AppData\\Local\\Programs\\Python\\Python311\\Lib\\site-packages\\pandas\\io\\parsers\\c_parser_wrapper.py:431\u001b[0m, in \u001b[0;36mensure_dtype_objs\u001b[1;34m(dtype)\u001b[0m\n\u001b[0;32m    429\u001b[0m     \u001b[39mreturn\u001b[39;00m dtype_converted\n\u001b[0;32m    430\u001b[0m \u001b[39melif\u001b[39;00m \u001b[39misinstance\u001b[39m(dtype, \u001b[39mdict\u001b[39m):\n\u001b[1;32m--> 431\u001b[0m     \u001b[39mreturn\u001b[39;00m {k: pandas_dtype(dtype[k]) \u001b[39mfor\u001b[39;49;00m k \u001b[39min\u001b[39;49;00m dtype}\n\u001b[0;32m    432\u001b[0m \u001b[39melif\u001b[39;00m dtype \u001b[39mis\u001b[39;00m \u001b[39mnot\u001b[39;00m \u001b[39mNone\u001b[39;00m:\n\u001b[0;32m    433\u001b[0m     \u001b[39mreturn\u001b[39;00m pandas_dtype(dtype)\n",
      "File \u001b[1;32mc:\\Users\\krshn\\AppData\\Local\\Programs\\Python\\Python311\\Lib\\site-packages\\pandas\\io\\parsers\\c_parser_wrapper.py:431\u001b[0m, in \u001b[0;36m<dictcomp>\u001b[1;34m(.0)\u001b[0m\n\u001b[0;32m    429\u001b[0m     \u001b[39mreturn\u001b[39;00m dtype_converted\n\u001b[0;32m    430\u001b[0m \u001b[39melif\u001b[39;00m \u001b[39misinstance\u001b[39m(dtype, \u001b[39mdict\u001b[39m):\n\u001b[1;32m--> 431\u001b[0m     \u001b[39mreturn\u001b[39;00m {k: pandas_dtype(dtype[k]) \u001b[39mfor\u001b[39;00m k \u001b[39min\u001b[39;00m dtype}\n\u001b[0;32m    432\u001b[0m \u001b[39melif\u001b[39;00m dtype \u001b[39mis\u001b[39;00m \u001b[39mnot\u001b[39;00m \u001b[39mNone\u001b[39;00m:\n\u001b[0;32m    433\u001b[0m     \u001b[39mreturn\u001b[39;00m pandas_dtype(dtype)\n",
      "File \u001b[1;32mc:\\Users\\krshn\\AppData\\Local\\Programs\\Python\\Python311\\Lib\\site-packages\\pandas\\core\\dtypes\\common.py:1781\u001b[0m, in \u001b[0;36mpandas_dtype\u001b[1;34m(dtype)\u001b[0m\n\u001b[0;32m   1778\u001b[0m \u001b[39m# try a numpy dtype\u001b[39;00m\n\u001b[0;32m   1779\u001b[0m \u001b[39m# raise a consistent TypeError if failed\u001b[39;00m\n\u001b[0;32m   1780\u001b[0m \u001b[39mtry\u001b[39;00m:\n\u001b[1;32m-> 1781\u001b[0m     npdtype \u001b[39m=\u001b[39m np\u001b[39m.\u001b[39;49mdtype(dtype)\n\u001b[0;32m   1782\u001b[0m \u001b[39mexcept\u001b[39;00m \u001b[39mSyntaxError\u001b[39;00m \u001b[39mas\u001b[39;00m err:\n\u001b[0;32m   1783\u001b[0m     \u001b[39m# np.dtype uses `eval` which can raise SyntaxError\u001b[39;00m\n\u001b[0;32m   1784\u001b[0m     \u001b[39mraise\u001b[39;00m \u001b[39mTypeError\u001b[39;00m(\u001b[39mf\u001b[39m\u001b[39m\"\u001b[39m\u001b[39mdata type \u001b[39m\u001b[39m'\u001b[39m\u001b[39m{\u001b[39;00mdtype\u001b[39m}\u001b[39;00m\u001b[39m'\u001b[39m\u001b[39m not understood\u001b[39m\u001b[39m\"\u001b[39m) \u001b[39mfrom\u001b[39;00m \u001b[39merr\u001b[39;00m\n",
      "\u001b[1;31mTypeError\u001b[0m: Cannot interpret '<function serial_number at 0x0000020C016811C0>' as a data type"
     ]
    }
   ],
   "source": [
    "import pandas as pd\n",
    "process_df = pd.read_csv(FITSDataHealth._process_file_loaction, usecols=FITSDataHealth._process_columns,\n",
    "                                         dtype = {'serial_no':serial_number}, parse_dates= FITSDataHealth._process_parse_dates)\n",
    "# process_df['step_id'] = process_df['step_id'].astype(int)"
   ]
  },
  {
   "cell_type": "code",
   "execution_count": 21,
   "metadata": {},
   "outputs": [],
   "source": [
    "import pandas as pd\n",
    "_repair_status_parse_dates:list = [\"date\"]\n",
    "repair_status = pd.read_csv(\"input/repair_status.csv\", usecols=['id', 'date', 'status'])"
   ]
  },
  {
   "cell_type": "code",
   "execution_count": 22,
   "metadata": {},
   "outputs": [
    {
     "name": "stdout",
     "output_type": "stream",
     "text": [
      "<class 'pandas.core.frame.DataFrame'>\n",
      "RangeIndex: 37135 entries, 0 to 37134\n",
      "Data columns (total 3 columns):\n",
      " #   Column  Non-Null Count  Dtype \n",
      "---  ------  --------------  ----- \n",
      " 0   id      37135 non-null  int64 \n",
      " 1   status  37135 non-null  object\n",
      " 2   date    37135 non-null  object\n",
      "dtypes: int64(1), object(2)\n",
      "memory usage: 870.5+ KB\n"
     ]
    }
   ],
   "source": [
    "repair_status.info()"
   ]
  },
  {
   "cell_type": "code",
   "execution_count": 17,
   "metadata": {},
   "outputs": [
    {
     "name": "stdout",
     "output_type": "stream",
     "text": [
      "['id', 'created_by', 'status', 'date', 'RMA_dim_id', 'time']\n",
      "['id', 'created_by', 'status', 'date', 'RMA_dim_id']\n"
     ]
    }
   ],
   "source": [
    "a = repair_status.columns.tolist()\n",
    "print(a)\n",
    "a.remove('time')\n",
    "print(a)"
   ]
  },
  {
   "cell_type": "code",
   "execution_count": 16,
   "metadata": {},
   "outputs": [
    {
     "name": "stdout",
     "output_type": "stream",
     "text": [
      "['id', 'created_by', 'status', 'date', 'RMA_dim_id', 'time']\n"
     ]
    }
   ],
   "source": [
    "print(repair_status.columns.tolist().)"
   ]
  },
  {
   "cell_type": "code",
   "execution_count": 5,
   "metadata": {},
   "outputs": [],
   "source": [
    "repair_status['date'] = pd.to_datetime(repair_status['date'])"
   ]
  },
  {
   "cell_type": "code",
   "execution_count": 8,
   "metadata": {},
   "outputs": [],
   "source": [
    "repair_status['time'] = repair_status['time'].astype('timedelta64')\n",
    "repair_status['date'] = repair_status['date'] + repair_status['time'].fillna(pd.Timedelta(0))"
   ]
  },
  {
   "cell_type": "code",
   "execution_count": 9,
   "metadata": {},
   "outputs": [
    {
     "data": {
      "text/html": [
       "<div>\n",
       "<style scoped>\n",
       "    .dataframe tbody tr th:only-of-type {\n",
       "        vertical-align: middle;\n",
       "    }\n",
       "\n",
       "    .dataframe tbody tr th {\n",
       "        vertical-align: top;\n",
       "    }\n",
       "\n",
       "    .dataframe thead th {\n",
       "        text-align: right;\n",
       "    }\n",
       "</style>\n",
       "<table border=\"1\" class=\"dataframe\">\n",
       "  <thead>\n",
       "    <tr style=\"text-align: right;\">\n",
       "      <th></th>\n",
       "      <th>id</th>\n",
       "      <th>created_by</th>\n",
       "      <th>status</th>\n",
       "      <th>date</th>\n",
       "      <th>RMA_dim_id</th>\n",
       "      <th>time</th>\n",
       "    </tr>\n",
       "  </thead>\n",
       "  <tbody>\n",
       "    <tr>\n",
       "      <th>0</th>\n",
       "      <td>1</td>\n",
       "      <td>1</td>\n",
       "      <td>QC Receiving</td>\n",
       "      <td>2022-02-28 00:00:00</td>\n",
       "      <td>3770</td>\n",
       "      <td>NaT</td>\n",
       "    </tr>\n",
       "    <tr>\n",
       "      <th>1</th>\n",
       "      <td>2</td>\n",
       "      <td>1</td>\n",
       "      <td>Diagnosis Start</td>\n",
       "      <td>2022-02-28 00:00:00</td>\n",
       "      <td>3770</td>\n",
       "      <td>NaT</td>\n",
       "    </tr>\n",
       "    <tr>\n",
       "      <th>2</th>\n",
       "      <td>3</td>\n",
       "      <td>1</td>\n",
       "      <td>Diagnosis Received</td>\n",
       "      <td>2022-03-02 00:00:00</td>\n",
       "      <td>3770</td>\n",
       "      <td>NaT</td>\n",
       "    </tr>\n",
       "    <tr>\n",
       "      <th>3</th>\n",
       "      <td>4</td>\n",
       "      <td>1</td>\n",
       "      <td>Diagnostic Review</td>\n",
       "      <td>2022-03-07 00:00:00</td>\n",
       "      <td>3770</td>\n",
       "      <td>NaT</td>\n",
       "    </tr>\n",
       "    <tr>\n",
       "      <th>4</th>\n",
       "      <td>5</td>\n",
       "      <td>48</td>\n",
       "      <td>Review Open</td>\n",
       "      <td>2022-03-07 00:00:00</td>\n",
       "      <td>3770</td>\n",
       "      <td>NaT</td>\n",
       "    </tr>\n",
       "    <tr>\n",
       "      <th>...</th>\n",
       "      <td>...</td>\n",
       "      <td>...</td>\n",
       "      <td>...</td>\n",
       "      <td>...</td>\n",
       "      <td>...</td>\n",
       "      <td>...</td>\n",
       "    </tr>\n",
       "    <tr>\n",
       "      <th>37130</th>\n",
       "      <td>38625</td>\n",
       "      <td>1</td>\n",
       "      <td>Diagnosis Start</td>\n",
       "      <td>2023-08-28 06:43:12</td>\n",
       "      <td>9331</td>\n",
       "      <td>0 days 06:43:12</td>\n",
       "    </tr>\n",
       "    <tr>\n",
       "      <th>37131</th>\n",
       "      <td>38626</td>\n",
       "      <td>1</td>\n",
       "      <td>Diagnosis Start</td>\n",
       "      <td>2023-08-28 06:43:16</td>\n",
       "      <td>9332</td>\n",
       "      <td>0 days 06:43:16</td>\n",
       "    </tr>\n",
       "    <tr>\n",
       "      <th>37132</th>\n",
       "      <td>38627</td>\n",
       "      <td>1</td>\n",
       "      <td>QC Receiving</td>\n",
       "      <td>2023-08-29 09:27:34</td>\n",
       "      <td>9361</td>\n",
       "      <td>0 days 09:27:34</td>\n",
       "    </tr>\n",
       "    <tr>\n",
       "      <th>37133</th>\n",
       "      <td>38628</td>\n",
       "      <td>1</td>\n",
       "      <td>Diagnosis Start</td>\n",
       "      <td>2023-08-29 10:25:30</td>\n",
       "      <td>9361</td>\n",
       "      <td>0 days 10:25:30</td>\n",
       "    </tr>\n",
       "    <tr>\n",
       "      <th>37134</th>\n",
       "      <td>38629</td>\n",
       "      <td>1</td>\n",
       "      <td>Diagnostic Review</td>\n",
       "      <td>2023-08-29 10:33:34</td>\n",
       "      <td>9361</td>\n",
       "      <td>0 days 10:33:34</td>\n",
       "    </tr>\n",
       "  </tbody>\n",
       "</table>\n",
       "<p>37135 rows × 6 columns</p>\n",
       "</div>"
      ],
      "text/plain": [
       "          id  created_by              status                date  RMA_dim_id  \\\n",
       "0          1           1        QC Receiving 2022-02-28 00:00:00        3770   \n",
       "1          2           1     Diagnosis Start 2022-02-28 00:00:00        3770   \n",
       "2          3           1  Diagnosis Received 2022-03-02 00:00:00        3770   \n",
       "3          4           1   Diagnostic Review 2022-03-07 00:00:00        3770   \n",
       "4          5          48         Review Open 2022-03-07 00:00:00        3770   \n",
       "...      ...         ...                 ...                 ...         ...   \n",
       "37130  38625           1     Diagnosis Start 2023-08-28 06:43:12        9331   \n",
       "37131  38626           1     Diagnosis Start 2023-08-28 06:43:16        9332   \n",
       "37132  38627           1        QC Receiving 2023-08-29 09:27:34        9361   \n",
       "37133  38628           1     Diagnosis Start 2023-08-29 10:25:30        9361   \n",
       "37134  38629           1   Diagnostic Review 2023-08-29 10:33:34        9361   \n",
       "\n",
       "                 time  \n",
       "0                 NaT  \n",
       "1                 NaT  \n",
       "2                 NaT  \n",
       "3                 NaT  \n",
       "4                 NaT  \n",
       "...               ...  \n",
       "37130 0 days 06:43:12  \n",
       "37131 0 days 06:43:16  \n",
       "37132 0 days 09:27:34  \n",
       "37133 0 days 10:25:30  \n",
       "37134 0 days 10:33:34  \n",
       "\n",
       "[37135 rows x 6 columns]"
      ]
     },
     "execution_count": 9,
     "metadata": {},
     "output_type": "execute_result"
    }
   ],
   "source": [
    "repair_status"
   ]
  },
  {
   "cell_type": "code",
   "execution_count": 9,
   "metadata": {},
   "outputs": [],
   "source": [
    "def dtype_sn(self):\n",
    "    self = self.astype(str)\n",
    "    self = self.str.split(\".\").str[0]\n",
    "    return self"
   ]
  },
  {
   "cell_type": "code",
   "execution_count": 14,
   "metadata": {},
   "outputs": [
    {
     "ename": "SyntaxError",
     "evalue": "invalid syntax. Maybe you meant '==' or ':=' instead of '='? (3993193480.py, line 1)",
     "output_type": "error",
     "traceback": [
      "\u001b[1;36m  Cell \u001b[1;32mIn[14], line 1\u001b[1;36m\u001b[0m\n\u001b[1;33m    repair_status.loc[repair_status['time'] < '23:59:59', na=False]\u001b[0m\n\u001b[1;37m                                                          ^\u001b[0m\n\u001b[1;31mSyntaxError\u001b[0m\u001b[1;31m:\u001b[0m invalid syntax. Maybe you meant '==' or ':=' instead of '='?\n"
     ]
    }
   ],
   "source": [
    "repair_status.loc[repair_status['time'] < '23:59:59']"
   ]
  },
  {
   "cell_type": "code",
   "execution_count": 15,
   "metadata": {},
   "outputs": [],
   "source": [
    "df = DataHealthChecks._process_df"
   ]
  },
  {
   "cell_type": "code",
   "execution_count": 21,
   "metadata": {},
   "outputs": [],
   "source": [
    "df['rma_number'] = df['workorder'].str.extract(\"RMA(.*)\")[0]  # Extracting RMA number from workorder\n",
    "# df['rma_number'] = df['rma_number'].str.split(\"-\").str[0]\n",
    "# rma_number = rma_number.str.split(\"T\").str[0]"
   ]
  },
  {
   "cell_type": "code",
   "execution_count": 22,
   "metadata": {},
   "outputs": [
    {
     "data": {
      "text/html": [
       "<div>\n",
       "<style scoped>\n",
       "    .dataframe tbody tr th:only-of-type {\n",
       "        vertical-align: middle;\n",
       "    }\n",
       "\n",
       "    .dataframe tbody tr th {\n",
       "        vertical-align: top;\n",
       "    }\n",
       "\n",
       "    .dataframe thead th {\n",
       "        text-align: right;\n",
       "    }\n",
       "</style>\n",
       "<table border=\"1\" class=\"dataframe\">\n",
       "  <thead>\n",
       "    <tr style=\"text-align: right;\">\n",
       "      <th></th>\n",
       "      <th>step_id</th>\n",
       "      <th>serial_number</th>\n",
       "      <th>workorder</th>\n",
       "      <th>trans_seq</th>\n",
       "      <th>sn_attr_code</th>\n",
       "      <th>operation</th>\n",
       "      <th>status</th>\n",
       "      <th>datetime_checkin</th>\n",
       "      <th>datetime_checkout</th>\n",
       "      <th>OPN_Map</th>\n",
       "      <th>rma_number</th>\n",
       "    </tr>\n",
       "  </thead>\n",
       "  <tbody>\n",
       "    <tr>\n",
       "      <th>0</th>\n",
       "      <td>8495618</td>\n",
       "      <td>130101129</td>\n",
       "      <td>ACR-CFP-RMA300001000025604-130101129</td>\n",
       "      <td>1</td>\n",
       "      <td>810001</td>\n",
       "      <td>RMA01</td>\n",
       "      <td>PASS</td>\n",
       "      <td>2023-07-10 21:36:13.317</td>\n",
       "      <td>2023-07-11 07:09:03.843</td>\n",
       "      <td>QC Receiving</td>\n",
       "      <td>300001000025604-130101129</td>\n",
       "    </tr>\n",
       "    <tr>\n",
       "      <th>1</th>\n",
       "      <td>8495619</td>\n",
       "      <td>130101129</td>\n",
       "      <td>ACR-CFP-RMA300001000025604-130101129</td>\n",
       "      <td>2</td>\n",
       "      <td>810001</td>\n",
       "      <td>RMA04A</td>\n",
       "      <td>PASS</td>\n",
       "      <td>2023-07-11 10:38:34.813</td>\n",
       "      <td>2023-07-11 10:40:07.983</td>\n",
       "      <td>Incoming Inspection</td>\n",
       "      <td>300001000025604-130101129</td>\n",
       "    </tr>\n",
       "    <tr>\n",
       "      <th>2</th>\n",
       "      <td>8497157</td>\n",
       "      <td>130101129</td>\n",
       "      <td>ACR-CFP-RMA300001000025604-130101129</td>\n",
       "      <td>3</td>\n",
       "      <td>810001</td>\n",
       "      <td>RMA04B</td>\n",
       "      <td>PASS</td>\n",
       "      <td>2023-07-11 13:56:57.343</td>\n",
       "      <td>2023-07-11 18:42:23.223</td>\n",
       "      <td>RMA Flow Selection</td>\n",
       "      <td>300001000025604-130101129</td>\n",
       "    </tr>\n",
       "    <tr>\n",
       "      <th>3</th>\n",
       "      <td>8497351</td>\n",
       "      <td>130101129</td>\n",
       "      <td>ACR-CFP-RMA300001000025604-130101129</td>\n",
       "      <td>4</td>\n",
       "      <td>810001</td>\n",
       "      <td>RMA38N</td>\n",
       "      <td>PASS</td>\n",
       "      <td>2023-07-11 20:08:20.677</td>\n",
       "      <td>2023-07-11 20:08:32.143</td>\n",
       "      <td>None CFG</td>\n",
       "      <td>300001000025604-130101129</td>\n",
       "    </tr>\n",
       "    <tr>\n",
       "      <th>4</th>\n",
       "      <td>8497352</td>\n",
       "      <td>130101129</td>\n",
       "      <td>ACR-CFP-RMA300001000025604-130101129</td>\n",
       "      <td>5</td>\n",
       "      <td>810001</td>\n",
       "      <td>RMA39</td>\n",
       "      <td>PASS</td>\n",
       "      <td>2023-07-11 20:09:00.733</td>\n",
       "      <td>2023-07-11 20:09:00.733</td>\n",
       "      <td>Label/FVMI</td>\n",
       "      <td>300001000025604-130101129</td>\n",
       "    </tr>\n",
       "    <tr>\n",
       "      <th>...</th>\n",
       "      <td>...</td>\n",
       "      <td>...</td>\n",
       "      <td>...</td>\n",
       "      <td>...</td>\n",
       "      <td>...</td>\n",
       "      <td>...</td>\n",
       "      <td>...</td>\n",
       "      <td>...</td>\n",
       "      <td>...</td>\n",
       "      <td>...</td>\n",
       "      <td>...</td>\n",
       "    </tr>\n",
       "    <tr>\n",
       "      <th>12539</th>\n",
       "      <td>8772555</td>\n",
       "      <td>231651346</td>\n",
       "      <td>ACR-QSFP Bright-RMA300001000026314-231651346</td>\n",
       "      <td>16</td>\n",
       "      <td>810001</td>\n",
       "      <td>RMA385</td>\n",
       "      <td>PASS</td>\n",
       "      <td>2023-08-28 08:26:25.803</td>\n",
       "      <td>2023-08-28 08:34:20.287</td>\n",
       "      <td>EEPROM Check</td>\n",
       "      <td>300001000026314-231651346</td>\n",
       "    </tr>\n",
       "    <tr>\n",
       "      <th>12540</th>\n",
       "      <td>8772556</td>\n",
       "      <td>231651346</td>\n",
       "      <td>ACR-QSFP Bright-RMA300001000026314-231651346</td>\n",
       "      <td>17</td>\n",
       "      <td>810001</td>\n",
       "      <td>RMA39</td>\n",
       "      <td>PASS</td>\n",
       "      <td>2023-08-28 08:38:55.583</td>\n",
       "      <td>2023-08-28 08:38:55.583</td>\n",
       "      <td>Label/FVMI</td>\n",
       "      <td>300001000026314-231651346</td>\n",
       "    </tr>\n",
       "    <tr>\n",
       "      <th>12541</th>\n",
       "      <td>8772651</td>\n",
       "      <td>231651346</td>\n",
       "      <td>ACR-QSFP Bright-RMA300001000026314-231651346</td>\n",
       "      <td>18</td>\n",
       "      <td>810001</td>\n",
       "      <td>RMA40I</td>\n",
       "      <td>PASS</td>\n",
       "      <td>2023-08-28 09:54:40.590</td>\n",
       "      <td>2023-08-28 09:54:40.590</td>\n",
       "      <td>OQA [Check In]</td>\n",
       "      <td>300001000026314-231651346</td>\n",
       "    </tr>\n",
       "    <tr>\n",
       "      <th>12542</th>\n",
       "      <td>8772715</td>\n",
       "      <td>231651346</td>\n",
       "      <td>ACR-QSFP Bright-RMA300001000026314-231651346</td>\n",
       "      <td>19</td>\n",
       "      <td>810001</td>\n",
       "      <td>RMA40</td>\n",
       "      <td>PASS</td>\n",
       "      <td>2023-08-28 10:08:16.697</td>\n",
       "      <td>2023-08-28 10:08:16.697</td>\n",
       "      <td>OQA [Check Out]</td>\n",
       "      <td>300001000026314-231651346</td>\n",
       "    </tr>\n",
       "    <tr>\n",
       "      <th>12543</th>\n",
       "      <td>8772716</td>\n",
       "      <td>231651346</td>\n",
       "      <td>ACR-QSFP Bright-RMA300001000026314-231651346</td>\n",
       "      <td>20</td>\n",
       "      <td>810001</td>\n",
       "      <td>RMA40P</td>\n",
       "      <td>CHECK IN</td>\n",
       "      <td>2023-08-28 10:09:19.450</td>\n",
       "      <td>NaT</td>\n",
       "      <td>Portal Repair Review</td>\n",
       "      <td>300001000026314-231651346</td>\n",
       "    </tr>\n",
       "  </tbody>\n",
       "</table>\n",
       "<p>12544 rows × 11 columns</p>\n",
       "</div>"
      ],
      "text/plain": [
       "       step_id serial_number                                     workorder  \\\n",
       "0      8495618     130101129          ACR-CFP-RMA300001000025604-130101129   \n",
       "1      8495619     130101129          ACR-CFP-RMA300001000025604-130101129   \n",
       "2      8497157     130101129          ACR-CFP-RMA300001000025604-130101129   \n",
       "3      8497351     130101129          ACR-CFP-RMA300001000025604-130101129   \n",
       "4      8497352     130101129          ACR-CFP-RMA300001000025604-130101129   \n",
       "...        ...           ...                                           ...   \n",
       "12539  8772555     231651346  ACR-QSFP Bright-RMA300001000026314-231651346   \n",
       "12540  8772556     231651346  ACR-QSFP Bright-RMA300001000026314-231651346   \n",
       "12541  8772651     231651346  ACR-QSFP Bright-RMA300001000026314-231651346   \n",
       "12542  8772715     231651346  ACR-QSFP Bright-RMA300001000026314-231651346   \n",
       "12543  8772716     231651346  ACR-QSFP Bright-RMA300001000026314-231651346   \n",
       "\n",
       "       trans_seq  sn_attr_code operation    status        datetime_checkin  \\\n",
       "0              1        810001     RMA01      PASS 2023-07-10 21:36:13.317   \n",
       "1              2        810001    RMA04A      PASS 2023-07-11 10:38:34.813   \n",
       "2              3        810001    RMA04B      PASS 2023-07-11 13:56:57.343   \n",
       "3              4        810001    RMA38N      PASS 2023-07-11 20:08:20.677   \n",
       "4              5        810001     RMA39      PASS 2023-07-11 20:09:00.733   \n",
       "...          ...           ...       ...       ...                     ...   \n",
       "12539         16        810001    RMA385      PASS 2023-08-28 08:26:25.803   \n",
       "12540         17        810001     RMA39      PASS 2023-08-28 08:38:55.583   \n",
       "12541         18        810001    RMA40I      PASS 2023-08-28 09:54:40.590   \n",
       "12542         19        810001     RMA40      PASS 2023-08-28 10:08:16.697   \n",
       "12543         20        810001    RMA40P  CHECK IN 2023-08-28 10:09:19.450   \n",
       "\n",
       "            datetime_checkout               OPN_Map                 rma_number  \n",
       "0     2023-07-11 07:09:03.843          QC Receiving  300001000025604-130101129  \n",
       "1     2023-07-11 10:40:07.983   Incoming Inspection  300001000025604-130101129  \n",
       "2     2023-07-11 18:42:23.223    RMA Flow Selection  300001000025604-130101129  \n",
       "3     2023-07-11 20:08:32.143              None CFG  300001000025604-130101129  \n",
       "4     2023-07-11 20:09:00.733            Label/FVMI  300001000025604-130101129  \n",
       "...                       ...                   ...                        ...  \n",
       "12539 2023-08-28 08:34:20.287          EEPROM Check  300001000026314-231651346  \n",
       "12540 2023-08-28 08:38:55.583            Label/FVMI  300001000026314-231651346  \n",
       "12541 2023-08-28 09:54:40.590        OQA [Check In]  300001000026314-231651346  \n",
       "12542 2023-08-28 10:08:16.697       OQA [Check Out]  300001000026314-231651346  \n",
       "12543                     NaT  Portal Repair Review  300001000026314-231651346  \n",
       "\n",
       "[12544 rows x 11 columns]"
      ]
     },
     "execution_count": 22,
     "metadata": {},
     "output_type": "execute_result"
    }
   ],
   "source": [
    "df.loc[df['rma_number'].str.isnumeric()==False]"
   ]
  },
  {
   "cell_type": "code",
   "execution_count": 18,
   "metadata": {},
   "outputs": [],
   "source": [
    "import pandas as pd\n",
    "_dh_process_columns: list = [\n",
    "        \"step_id\",\n",
    "        \"serial_number\",\n",
    "        \"workorder\",\n",
    "        \"trans_seq\",\n",
    "        \"sn_attr_code\",\n",
    "        \"operation\",\n",
    "        \"OPN_Map\",\n",
    "        \"status\",\n",
    "        \"datetime_checkin\",\n",
    "        \"datetime_checkout\",\n",
    "        \"dh_failure\",\n",
    "    ]\n",
    "\n",
    "dh_process_df: pd.DataFrame = pd.DataFrame(columns=_dh_process_columns)\n",
    "\n",
    "_dh_rma_data_columns: list = [\n",
    "        \"RMA_dim_id\",\n",
    "        \"serial_number\",\n",
    "        \"rma_number\",\n",
    "        \"dh_failure\",\n",
    "    ]\n",
    "\n",
    "dh_rma_data_df: pd.DataFrame = pd.DataFrame(columns=_dh_rma_data_columns)\n",
    "\n",
    "\n",
    "if [col for col in dh_process_df.columns if col not in dh_rma_data_df.columns]!=[]:\n",
    "    KeyError(\"Data health output does not have all the columns required in dh_process\")"
   ]
  },
  {
   "cell_type": "code",
   "execution_count": 15,
   "metadata": {},
   "outputs": [
    {
     "data": {
      "text/plain": [
       "True"
      ]
     },
     "execution_count": 15,
     "metadata": {},
     "output_type": "execute_result"
    }
   ],
   "source": [
    "[col for col in dh_process_df.columns if col not in dh_rma_data_df.columns] != []"
   ]
  },
  {
   "cell_type": "code",
   "execution_count": 23,
   "metadata": {},
   "outputs": [],
   "source": [
    "tod = pd.Timestamp(year=2023, month=8, day=24, hour=15, minute=17)  # placeholder"
   ]
  },
  {
   "cell_type": "code",
   "execution_count": 26,
   "metadata": {},
   "outputs": [
    {
     "data": {
      "text/plain": [
       "'20230824'"
      ]
     },
     "execution_count": 26,
     "metadata": {},
     "output_type": "execute_result"
    }
   ],
   "source": [
    "tod.strftime(\"%Y%m%d\")"
   ]
  },
  {
   "cell_type": "code",
   "execution_count": 5,
   "metadata": {},
   "outputs": [
    {
     "data": {
      "text/html": [
       "<div>\n",
       "<style scoped>\n",
       "    .dataframe tbody tr th:only-of-type {\n",
       "        vertical-align: middle;\n",
       "    }\n",
       "\n",
       "    .dataframe tbody tr th {\n",
       "        vertical-align: top;\n",
       "    }\n",
       "\n",
       "    .dataframe thead th {\n",
       "        text-align: right;\n",
       "    }\n",
       "</style>\n",
       "<table border=\"1\" class=\"dataframe\">\n",
       "  <thead>\n",
       "    <tr style=\"text-align: right;\">\n",
       "      <th></th>\n",
       "      <th>step_id</th>\n",
       "      <th>serial_number</th>\n",
       "      <th>rma_number</th>\n",
       "      <th>workorder</th>\n",
       "      <th>trans_seq</th>\n",
       "      <th>sn_attr_code</th>\n",
       "      <th>operation</th>\n",
       "      <th>OPN_Map</th>\n",
       "      <th>status</th>\n",
       "      <th>datetime_checkin</th>\n",
       "      <th>datetime_checkout</th>\n",
       "      <th>dh_failure</th>\n",
       "    </tr>\n",
       "  </thead>\n",
       "  <tbody>\n",
       "  </tbody>\n",
       "</table>\n",
       "</div>"
      ],
      "text/plain": [
       "Empty DataFrame\n",
       "Columns: [step_id, serial_number, rma_number, workorder, trans_seq, sn_attr_code, operation, OPN_Map, status, datetime_checkin, datetime_checkout, dh_failure]\n",
       "Index: []"
      ]
     },
     "execution_count": 5,
     "metadata": {},
     "output_type": "execute_result"
    }
   ],
   "source": [
    "import pandas as pd\n",
    "class ProcessDHOutput:\n",
    "    # output_dir = f\"output/{tod.strftime('%Y%m%d')}\"\n",
    "    # captured_cases_dir = \"output/captured_cases\"\n",
    "\n",
    "    # def __init__(self) -> None:\n",
    "        # self._load_dh_process()\n",
    "\n",
    "    _dh_process_columns: list = [\n",
    "        \"step_id\",\n",
    "        \"serial_number\",\n",
    "        \"rma_number\",\n",
    "        \"workorder\",\n",
    "        \"trans_seq\",\n",
    "        \"sn_attr_code\",\n",
    "        \"operation\",\n",
    "        \"OPN_Map\",\n",
    "        \"status\",\n",
    "        \"datetime_checkin\",\n",
    "        \"datetime_checkout\",\n",
    "        \"dh_failure\",\n",
    "    ]\n",
    "\n",
    "    dh_process_df: pd.DataFrame = pd.DataFrame(columns=_dh_process_columns)\n",
    "\n",
    "    def test_print(self):\n",
    "        return self.dh_process_df.head(10)\n",
    "    \n",
    "output = ProcessDHOutput()\n",
    "output.test_print()"
   ]
  },
  {
   "cell_type": "code",
   "execution_count": 6,
   "metadata": {},
   "outputs": [],
   "source": [
    "df = pd.DataFrame({\"column1\":[1,2,3]})"
   ]
  },
  {
   "cell_type": "code",
   "execution_count": 9,
   "metadata": {},
   "outputs": [],
   "source": [
    "df = pd.read_csv(\"output/captured_cases/DH_Process.csv\")"
   ]
  },
  {
   "cell_type": "code",
   "execution_count": 11,
   "metadata": {},
   "outputs": [
    {
     "data": {
      "text/plain": [
       "0       (8495618, 130101129, 300001000025604.0, ACR-CF...\n",
       "1       (8495619, 130101129, 300001000025604.0, ACR-CF...\n",
       "2       (8497157, 130101129, 300001000025604.0, ACR-CF...\n",
       "3       (8497351, 130101129, 300001000025604.0, ACR-CF...\n",
       "4       (8497352, 130101129, 300001000025604.0, ACR-CF...\n",
       "                              ...                        \n",
       "5111    (8485723, 230551219, 300001000025190.0, ACR-CF...\n",
       "5112    (8504023, 230551219, 300001000025190.0, ACR-CF...\n",
       "5113    (8504235, 230551219, 300001000025190.0, ACR-CF...\n",
       "5114    (8504937, 230551219, 300001000025190.0, ACR-CF...\n",
       "5115    (8504938, 230551219, 300001000025190.0, ACR-CF...\n",
       "Length: 5116, dtype: object"
      ]
     },
     "execution_count": 11,
     "metadata": {},
     "output_type": "execute_result"
    }
   ],
   "source": [
    "df.apply(tuple, axis=1)"
   ]
  },
  {
   "cell_type": "code",
   "execution_count": 12,
   "metadata": {},
   "outputs": [
    {
     "name": "stdout",
     "output_type": "stream",
     "text": [
      "5\n"
     ]
    }
   ],
   "source": [
    "a = 5\n",
    "def test(a):\n",
    "    a = 6\n",
    "    b = 5\n",
    "    return b-a\n",
    "\n",
    "test(a)\n",
    "print(a)"
   ]
  },
  {
   "cell_type": "code",
   "execution_count": 7,
   "metadata": {},
   "outputs": [
    {
     "data": {
      "text/plain": [
       "False"
      ]
     },
     "execution_count": 7,
     "metadata": {},
     "output_type": "execute_result"
    }
   ],
   "source": [
    "a = ['a', 'b', 'c', 'l']\n",
    "b = ['c', 'b', 'a', 'd']\n",
    "\n",
    "set(a)==set(b)"
   ]
  },
  {
   "cell_type": "code",
   "execution_count": 9,
   "metadata": {},
   "outputs": [
    {
     "data": {
      "text/plain": [
       "{'d'}"
      ]
     },
     "execution_count": 9,
     "metadata": {},
     "output_type": "execute_result"
    }
   ],
   "source": [
    "set(b) - set(a)"
   ]
  },
  {
   "cell_type": "code",
   "execution_count": null,
   "metadata": {},
   "outputs": [],
   "source": []
  }
 ],
 "metadata": {
  "kernelspec": {
   "display_name": "Python 3",
   "language": "python",
   "name": "python3"
  },
  "language_info": {
   "codemirror_mode": {
    "name": "ipython",
    "version": 3
   },
   "file_extension": ".py",
   "mimetype": "text/x-python",
   "name": "python",
   "nbconvert_exporter": "python",
   "pygments_lexer": "ipython3",
   "version": "3.11.1"
  },
  "orig_nbformat": 4
 },
 "nbformat": 4,
 "nbformat_minor": 2
}
